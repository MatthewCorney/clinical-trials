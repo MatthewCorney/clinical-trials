{
 "cells": [
  {
   "cell_type": "code",
   "execution_count": null,
   "metadata": {},
   "outputs": [],
   "source": [
    "from src.DataSet import DataSet\n",
    "from src.settings import settings\n",
    "from src.cluster import perform_kmeans_faiss,baysian_optimisation\n",
    "from sklearn.metrics import silhouette_score\n",
    "from sklearn.preprocessing import StandardScaler"
   ]
  },
  {
   "cell_type": "markdown",
   "metadata": {},
   "source": [
    "# Example Clustering with Baysian Optimisation "
   ]
  },
  {
   "cell_type": "code",
   "execution_count": null,
   "metadata": {},
   "outputs": [],
   "source": [
    "max_iter = 40\n",
    "min_clusters=20\n",
    "max_clusters= 100\n",
    "# Build The Dataset Object\n",
    "data_set = DataSet(embedding_path=f'{settings.data_dir}\\\\core_data_embedding.jsonl',\n",
    "                    annotation_path=f'{settings.data_dir}\\\\core_data_annotation.jsonl')\n",
    "\n",
    "# Scale\n",
    "scaler = StandardScaler()\n",
    "data_scaled = scaler.fit_transform(list(data_set.sorted_index_embedding.values())).astype(np.float32)\n",
    "\n",
    "# Run Optimisation\n",
    "optimal_n_clusters=baysian_optimisation(data_scaled=data_scaled, min_clusters=min_clusters, max_clusters=max_clusters)\n",
    "\n",
    "# Run Clustering using Faiss\n",
    "faiss_centroids,faiss_distances,faiss_labels=perform_kmeans_faiss(data_scaled=data_scaled, \n",
    "                                                                        n_clusters=optimal_n_clusters,\n",
    "                                                                        max_iter=max_iter)\n",
    "\n",
    "faiss_silhouette = silhouette_score(data_scaled, faiss_labels[:, 0])"
   ]
  },
  {
   "cell_type": "code",
   "execution_count": null,
   "metadata": {},
   "outputs": [],
   "source": []
  }
 ],
 "metadata": {
  "language_info": {
   "name": "python"
  }
 },
 "nbformat": 4,
 "nbformat_minor": 2
}
