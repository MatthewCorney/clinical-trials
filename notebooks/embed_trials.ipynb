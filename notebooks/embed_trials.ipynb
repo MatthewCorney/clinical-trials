{
 "cells": [
  {
   "cell_type": "code",
   "execution_count": null,
   "metadata": {},
   "outputs": [],
   "source": [
    "from pprint import pprint\n",
    "\n",
    "from src.embed import build_dataset, save_jsonl, batch_upload, run_batch, load_jsonl, check_status, parse_embedding_file\n",
    "from src.settings import settings"
   ]
  },
  {
   "cell_type": "markdown",
   "metadata": {
    "vscode": {
     "languageId": "plaintext"
    }
   },
   "source": [
    "# Run the Embedding on the Clinical Trials Titles"
   ]
  },
  {
   "cell_type": "code",
   "execution_count": null,
   "metadata": {},
   "outputs": [],
   "source": [
    "# Limit of number of requests allowed by the batch API\n",
    "maximum_requests = 50000\n",
    "\n",
    "# build a minimal dataset without additional fields\n",
    "data_object = build_dataset()\n",
    "save_jsonl(path=f'{settings.data_dir}//core_data_annotation.jsonl', obj=[x.dict() for x in data_object])\n",
    "for current in range(0, len(data_object), maximum_requests):\n",
    "    start = current\n",
    "    end = current + maximum_requests\n",
    "    subset = data_object[start:end]\n",
    "    \n",
    "    # Upload the requests\n",
    "    file_id = batch_upload(return_object=subset, path=f'{settings.data_dir}\\\\batch_input_{end}.jsonl')\n",
    "    \n",
    "    # Run the batch\n",
    "    run_batch(file_id, path=f\"{settings.data_dir}\\\\ct-embedd-test_{end}.jsonl\")\n",
    "    batch_json = load_jsonl(f'{settings.data_dir}\\\\ct-embedd-test_{end}.jsonl')\n",
    "    \n",
    "    # Check the status of the request\n",
    "    retrieved_obj = check_status(batch_job_id=batch_json[0][\"id\"], pause=60)\n",
    "    pprint(retrieved_obj)\n",
    "    \n",
    "    # Parse the embedding file from the API\n",
    "    result = parse_embedding_file(retrieved_obj.output_file_id)\n",
    "    save_jsonl(path=f'{settings.data_dir}//core_data_embedding_{end}.jsonl', obj=result)"
   ]
  }
 ],
 "metadata": {
  "language_info": {
   "name": "python"
  }
 },
 "nbformat": 4,
 "nbformat_minor": 2
}
