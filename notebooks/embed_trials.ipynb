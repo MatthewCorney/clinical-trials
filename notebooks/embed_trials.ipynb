{
 "cells": [
  {
   "cell_type": "code",
   "execution_count": null,
   "metadata": {
    "vscode": {
     "languageId": "plaintext"
    }
   },
   "outputs": [],
   "source": [
    "from pprint import pprint\n",
    "\n",
    "from src.embed import build_dataset, save_jsonl, batch_upload, run_batch, load_jsonl, check_status, parse_embedding_file\n",
    "from src.settings import settings"
   ]
  },
  {
   "cell_type": "code",
   "execution_count": null,
   "metadata": {
    "vscode": {
     "languageId": "plaintext"
    }
   },
   "outputs": [],
   "source": [
    "# Runs the Embedding on the clinical trials dataset"
   ]
  },
  {
   "cell_type": "code",
   "execution_count": null,
   "metadata": {
    "vscode": {
     "languageId": "plaintext"
    }
   },
   "outputs": [],
   "source": [
    "maximum_requests = 50000\n",
    "data_object = build_dataset()\n",
    "save_jsonl(path=f'{settings.data_dir}//core_data_annotation.jsonl', obj=[x.dict() for x in data_object])\n",
    "for current in range(0, len(data_object), maximum_requests):\n",
    "    start = current\n",
    "    end = current + maximum_requests\n",
    "    subset = data_object[start:end]\n",
    "    file_id = batch_upload(return_object=subset, path=f'{settings.data_dir}\\\\batch_input_{end}.jsonl')\n",
    "    run_batch(file_id, path=f\"{settings.data_dir}\\\\ct-embedd-test_{end}.jsonl\")\n",
    "    batch_json = load_jsonl(f'{settings.data_dir}\\\\ct-embedd-test_{end}.jsonl')\n",
    "    retrieved_obj = check_status(batch_job_id=batch_json[0][\"id\"], pause=60)\n",
    "    pprint(retrieved_obj)\n",
    "    result = parse_embedding_file(retrieved_obj.output_file_id)\n",
    "    save_jsonl(path=f'{settings.data_dir}//core_data_embedding_{end}.jsonl', obj=result)"
   ]
  }
 ],
 "metadata": {
  "language_info": {
   "name": "python"
  }
 },
 "nbformat": 4,
 "nbformat_minor": 2
}
