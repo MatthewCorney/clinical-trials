{
 "cells": [
  {
   "cell_type": "code",
   "execution_count": null,
   "metadata": {},
   "outputs": [],
   "source": [
    "from src.DataSet import DataSet\n",
    "from src.settings import settings\n",
    "from src.similarity import topn_similar_trials\n"
   ]
  },
  {
   "cell_type": "markdown",
   "metadata": {},
   "source": [
    "# Example Usage for Getting Similar Trials"
   ]
  },
  {
   "cell_type": "code",
   "execution_count": null,
   "metadata": {},
   "outputs": [],
   "source": [
    "data_set = DataSet(embedding_path=f'{settings.data_dir}\\\\core_data_embedding.jsonl',\n",
    "                    annotation_path=f'{settings.data_dir}\\\\core_data_annotation.jsonl')\n",
    "# Retrieve example clinical Trial\n",
    "trial_id, trial_title = next(iter(data_set.id_text_dict.items()))\n",
    "print(f'{trial_id}')\n",
    "print(f'{trial_title}')\n",
    "\n",
    "# Get index\n",
    "query_index = data_set.name_index_dict[trial_id]\n",
    "\n",
    "# Run query\n",
    "similar_trials = topn_similar_trials(embeddings=list(data_set.sorted_index_embedding.values()), query_index=query_index)\n",
    "similar_trial_response = []\n",
    "for idx, score in similar_trials:\n",
    "    response = {'score': score,\n",
    "                'text': data_set.id_text_dict[data_set.index_name_dict[idx]],\n",
    "                'id_val': data_set.index_name_dict[idx]\n",
    "                }\n",
    "    similar_trial_response.append(response)\n",
    "    print(response)"
   ]
  }
 ],
 "metadata": {
  "language_info": {
   "name": "python"
  }
 },
 "nbformat": 4,
 "nbformat_minor": 2
}
